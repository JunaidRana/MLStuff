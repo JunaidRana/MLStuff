{
 "cells": [
  {
   "cell_type": "code",
   "execution_count": 2,
   "metadata": {},
   "outputs": [
    {
     "name": "stderr",
     "output_type": "stream",
     "text": [
      "C:\\Users\\junaid.raza\\AppData\\Local\\Continuum\\anaconda4\\lib\\site-packages\\pysal\\__init__.py:65: VisibleDeprecationWarning: PySAL's API will be changed on 2018-12-31. The last release made with this API is version 1.14.4. A preview of the next API version is provided in the `pysal` 2.0 prelease candidate. The API changes and a guide on how to change imports is provided at https://migrating.pysal.org\n",
      "  ), VisibleDeprecationWarning)\n"
     ]
    }
   ],
   "source": [
    "import pandas as pd\n",
    "import numpy as np\n",
    "import xml.etree.ElementTree as et\n",
    "import xml.etree.cElementTree as ets\n",
    "from xml.sax import ContentHandler, parse\n",
    "from simpledbf import Dbf5\n",
    "import seaborn as sns\n",
    "color = sns.color_palette()\n",
    "sns.set_style('darkgrid')\n",
    "import pysal as ps\n",
    "from sklearn.metrics import accuracy_score\n",
    "import sys\n",
    "import shapefile\n",
    "import matplotlib.pyplot as plt\n",
    "from sklearn.metrics import mean_squared_error, r2_score"
   ]
  },
  {
   "cell_type": "code",
   "execution_count": 22,
   "metadata": {},
   "outputs": [],
   "source": [
    "#Loading Txt files First"
   ]
  },
  {
   "cell_type": "code",
   "execution_count": null,
   "metadata": {},
   "outputs": [],
   "source": [
    "#Have move the .txt files into txt folder so the path to file easy to use."
   ]
  },
  {
   "cell_type": "code",
   "execution_count": null,
   "metadata": {},
   "outputs": [],
   "source": [
    "#Reading agency.txt file."
   ]
  },
  {
   "cell_type": "code",
   "execution_count": 3,
   "metadata": {},
   "outputs": [
    {
     "data": {
      "text/html": [
       "<div>\n",
       "<style scoped>\n",
       "    .dataframe tbody tr th:only-of-type {\n",
       "        vertical-align: middle;\n",
       "    }\n",
       "\n",
       "    .dataframe tbody tr th {\n",
       "        vertical-align: top;\n",
       "    }\n",
       "\n",
       "    .dataframe thead th {\n",
       "        text-align: right;\n",
       "    }\n",
       "</style>\n",
       "<table border=\"1\" class=\"dataframe\">\n",
       "  <thead>\n",
       "    <tr style=\"text-align: right;\">\n",
       "      <th></th>\n",
       "      <th>agency_id</th>\n",
       "      <th>agency_name</th>\n",
       "      <th>agency_url</th>\n",
       "      <th>agency_timezone</th>\n",
       "      <th>agency_lang</th>\n",
       "    </tr>\n",
       "  </thead>\n",
       "  <tbody>\n",
       "    <tr>\n",
       "      <th>0</th>\n",
       "      <td>1</td>\n",
       "      <td>PTV</td>\n",
       "      <td>http://www.ptv.vic.gov.au</td>\n",
       "      <td>Australia/Melbourne</td>\n",
       "      <td>EN</td>\n",
       "    </tr>\n",
       "  </tbody>\n",
       "</table>\n",
       "</div>"
      ],
      "text/plain": [
       "   agency_id agency_name                 agency_url      agency_timezone  \\\n",
       "0          1         PTV  http://www.ptv.vic.gov.au  Australia/Melbourne   \n",
       "\n",
       "  agency_lang  \n",
       "0          EN  "
      ]
     },
     "execution_count": 3,
     "metadata": {},
     "output_type": "execute_result"
    }
   ],
   "source": [
    "df_txt_agency = pd.read_csv('txt/agency.txt', sep=\",\")\n",
    "df_txt_agency.head()"
   ]
  },
  {
   "cell_type": "code",
   "execution_count": null,
   "metadata": {},
   "outputs": [],
   "source": []
  },
  {
   "cell_type": "code",
   "execution_count": null,
   "metadata": {},
   "outputs": [],
   "source": [
    "#Reading calender.txt file."
   ]
  },
  {
   "cell_type": "code",
   "execution_count": 4,
   "metadata": {},
   "outputs": [],
   "source": [
    "df_txt_calender = pd.read_csv('txt/calendar.txt', sep=\",\")\n",
    "\n",
    "#df_txt_calender.head()"
   ]
  },
  {
   "cell_type": "code",
   "execution_count": null,
   "metadata": {},
   "outputs": [],
   "source": []
  },
  {
   "cell_type": "code",
   "execution_count": null,
   "metadata": {},
   "outputs": [],
   "source": [
    "#Reading calendar_dates.txt file."
   ]
  },
  {
   "cell_type": "code",
   "execution_count": 5,
   "metadata": {},
   "outputs": [
    {
     "data": {
      "text/html": [
       "<div>\n",
       "<style scoped>\n",
       "    .dataframe tbody tr th:only-of-type {\n",
       "        vertical-align: middle;\n",
       "    }\n",
       "\n",
       "    .dataframe tbody tr th {\n",
       "        vertical-align: top;\n",
       "    }\n",
       "\n",
       "    .dataframe thead th {\n",
       "        text-align: right;\n",
       "    }\n",
       "</style>\n",
       "<table border=\"1\" class=\"dataframe\">\n",
       "  <thead>\n",
       "    <tr style=\"text-align: right;\">\n",
       "      <th></th>\n",
       "      <th>service_id</th>\n",
       "      <th>date</th>\n",
       "      <th>exception_type</th>\n",
       "    </tr>\n",
       "  </thead>\n",
       "  <tbody>\n",
       "    <tr>\n",
       "      <th>0</th>\n",
       "      <td>T0</td>\n",
       "      <td>20151103</td>\n",
       "      <td>2</td>\n",
       "    </tr>\n",
       "    <tr>\n",
       "      <th>1</th>\n",
       "      <td>T0+a5</td>\n",
       "      <td>20151103</td>\n",
       "      <td>2</td>\n",
       "    </tr>\n",
       "  </tbody>\n",
       "</table>\n",
       "</div>"
      ],
      "text/plain": [
       "  service_id      date  exception_type\n",
       "0         T0  20151103               2\n",
       "1      T0+a5  20151103               2"
      ]
     },
     "execution_count": 5,
     "metadata": {},
     "output_type": "execute_result"
    }
   ],
   "source": [
    "df_txt_calendar_dates = pd.read_csv('txt/calendar_dates.txt', sep=\",\")\n",
    "df_txt_calendar_dates.head()"
   ]
  },
  {
   "cell_type": "code",
   "execution_count": null,
   "metadata": {},
   "outputs": [],
   "source": []
  },
  {
   "cell_type": "code",
   "execution_count": null,
   "metadata": {},
   "outputs": [],
   "source": [
    "#Reading routes.txt file."
   ]
  },
  {
   "cell_type": "code",
   "execution_count": 6,
   "metadata": {},
   "outputs": [
    {
     "name": "stdout",
     "output_type": "stream",
     "text": [
      "        route_id  agency_id route_short_name  \\\n",
      "0  2-ALM-B-mjp-1          1          Alamein   \n",
      "1  2-ALM-C-mjp-1          1          Alamein   \n",
      "2  2-ALM-D-mjp-1          1          Alamein   \n",
      "3  2-ALM-E-mjp-1          1          Alamein   \n",
      "4  2-ALM-F-mjp-1          1          Alamein   \n",
      "\n",
      "                    route_long_name  route_type  \n",
      "0  Alamein - City (Flinders Street)           2  \n",
      "1  Alamein - City (Flinders Street)           2  \n",
      "2  Alamein - City (Flinders Street)           2  \n",
      "3  Alamein - City (Flinders Street)           2  \n",
      "4  Alamein - City (Flinders Street)           2  \n"
     ]
    }
   ],
   "source": [
    "df_txt_routes = pd.read_csv('txt/routes.txt', sep=\",\")\n",
    "print (df_txt_routes.head())"
   ]
  },
  {
   "cell_type": "code",
   "execution_count": null,
   "metadata": {},
   "outputs": [],
   "source": []
  },
  {
   "cell_type": "code",
   "execution_count": null,
   "metadata": {},
   "outputs": [],
   "source": [
    "#Reading shapes.txt file."
   ]
  },
  {
   "cell_type": "code",
   "execution_count": 7,
   "metadata": {},
   "outputs": [
    {
     "data": {
      "text/html": [
       "<div>\n",
       "<style scoped>\n",
       "    .dataframe tbody tr th:only-of-type {\n",
       "        vertical-align: middle;\n",
       "    }\n",
       "\n",
       "    .dataframe tbody tr th {\n",
       "        vertical-align: top;\n",
       "    }\n",
       "\n",
       "    .dataframe thead th {\n",
       "        text-align: right;\n",
       "    }\n",
       "</style>\n",
       "<table border=\"1\" class=\"dataframe\">\n",
       "  <thead>\n",
       "    <tr style=\"text-align: right;\">\n",
       "      <th></th>\n",
       "      <th>shape_id</th>\n",
       "      <th>shape_pt_lat</th>\n",
       "      <th>shape_pt_lon</th>\n",
       "      <th>shape_pt_sequence</th>\n",
       "      <th>shape_dist_traveled</th>\n",
       "    </tr>\n",
       "  </thead>\n",
       "  <tbody>\n",
       "    <tr>\n",
       "      <th>0</th>\n",
       "      <td>2-ain-mjp-1.1.H</td>\n",
       "      <td>-37.818631</td>\n",
       "      <td>144.951994</td>\n",
       "      <td>1</td>\n",
       "      <td>0.000000</td>\n",
       "    </tr>\n",
       "    <tr>\n",
       "      <th>1</th>\n",
       "      <td>2-ain-mjp-1.1.H</td>\n",
       "      <td>-37.817425</td>\n",
       "      <td>144.951050</td>\n",
       "      <td>2</td>\n",
       "      <td>157.543645</td>\n",
       "    </tr>\n",
       "    <tr>\n",
       "      <th>2</th>\n",
       "      <td>2-ain-mjp-1.1.H</td>\n",
       "      <td>-37.817241</td>\n",
       "      <td>144.950828</td>\n",
       "      <td>3</td>\n",
       "      <td>185.827916</td>\n",
       "    </tr>\n",
       "    <tr>\n",
       "      <th>3</th>\n",
       "      <td>2-ain-mjp-1.1.H</td>\n",
       "      <td>-37.816327</td>\n",
       "      <td>144.950047</td>\n",
       "      <td>4</td>\n",
       "      <td>308.469671</td>\n",
       "    </tr>\n",
       "    <tr>\n",
       "      <th>4</th>\n",
       "      <td>2-ain-mjp-1.1.H</td>\n",
       "      <td>-37.816127</td>\n",
       "      <td>144.949950</td>\n",
       "      <td>5</td>\n",
       "      <td>332.239399</td>\n",
       "    </tr>\n",
       "  </tbody>\n",
       "</table>\n",
       "</div>"
      ],
      "text/plain": [
       "          shape_id  shape_pt_lat  shape_pt_lon  shape_pt_sequence  \\\n",
       "0  2-ain-mjp-1.1.H    -37.818631    144.951994                  1   \n",
       "1  2-ain-mjp-1.1.H    -37.817425    144.951050                  2   \n",
       "2  2-ain-mjp-1.1.H    -37.817241    144.950828                  3   \n",
       "3  2-ain-mjp-1.1.H    -37.816327    144.950047                  4   \n",
       "4  2-ain-mjp-1.1.H    -37.816127    144.949950                  5   \n",
       "\n",
       "   shape_dist_traveled  \n",
       "0             0.000000  \n",
       "1           157.543645  \n",
       "2           185.827916  \n",
       "3           308.469671  \n",
       "4           332.239399  "
      ]
     },
     "execution_count": 7,
     "metadata": {},
     "output_type": "execute_result"
    }
   ],
   "source": [
    "df_txt_shapes = pd.read_csv('txt/shapes.txt', sep=\",\")\n",
    "df_txt_shapes.head()\n"
   ]
  },
  {
   "cell_type": "code",
   "execution_count": null,
   "metadata": {},
   "outputs": [],
   "source": []
  },
  {
   "cell_type": "code",
   "execution_count": null,
   "metadata": {},
   "outputs": [],
   "source": [
    "#Reading stop_times.txt file."
   ]
  },
  {
   "cell_type": "code",
   "execution_count": 8,
   "metadata": {},
   "outputs": [
    {
     "data": {
      "text/html": [
       "<div>\n",
       "<style scoped>\n",
       "    .dataframe tbody tr th:only-of-type {\n",
       "        vertical-align: middle;\n",
       "    }\n",
       "\n",
       "    .dataframe tbody tr th {\n",
       "        vertical-align: top;\n",
       "    }\n",
       "\n",
       "    .dataframe thead th {\n",
       "        text-align: right;\n",
       "    }\n",
       "</style>\n",
       "<table border=\"1\" class=\"dataframe\">\n",
       "  <thead>\n",
       "    <tr style=\"text-align: right;\">\n",
       "      <th></th>\n",
       "      <th>trip_id</th>\n",
       "      <th>arrival_time</th>\n",
       "      <th>departure_time</th>\n",
       "      <th>stop_id</th>\n",
       "      <th>stop_sequence</th>\n",
       "      <th>stop_headsign</th>\n",
       "      <th>pickup_type</th>\n",
       "      <th>drop_off_type</th>\n",
       "      <th>shape_dist_traveled</th>\n",
       "    </tr>\n",
       "  </thead>\n",
       "  <tbody>\n",
       "    <tr>\n",
       "      <th>0</th>\n",
       "      <td>17182517.T2.2-ALM-B-mjp-1.1.H</td>\n",
       "      <td>04:57:00</td>\n",
       "      <td>04:57:00</td>\n",
       "      <td>19847</td>\n",
       "      <td>1</td>\n",
       "      <td>NaN</td>\n",
       "      <td>0</td>\n",
       "      <td>0</td>\n",
       "      <td>0.000000</td>\n",
       "    </tr>\n",
       "    <tr>\n",
       "      <th>1</th>\n",
       "      <td>17182517.T2.2-ALM-B-mjp-1.1.H</td>\n",
       "      <td>04:58:00</td>\n",
       "      <td>04:58:00</td>\n",
       "      <td>19848</td>\n",
       "      <td>2</td>\n",
       "      <td>NaN</td>\n",
       "      <td>0</td>\n",
       "      <td>0</td>\n",
       "      <td>723.017818</td>\n",
       "    </tr>\n",
       "    <tr>\n",
       "      <th>2</th>\n",
       "      <td>17182517.T2.2-ALM-B-mjp-1.1.H</td>\n",
       "      <td>05:00:00</td>\n",
       "      <td>05:00:00</td>\n",
       "      <td>19849</td>\n",
       "      <td>3</td>\n",
       "      <td>NaN</td>\n",
       "      <td>0</td>\n",
       "      <td>0</td>\n",
       "      <td>1951.735072</td>\n",
       "    </tr>\n",
       "    <tr>\n",
       "      <th>3</th>\n",
       "      <td>17182517.T2.2-ALM-B-mjp-1.1.H</td>\n",
       "      <td>05:02:00</td>\n",
       "      <td>05:02:00</td>\n",
       "      <td>19850</td>\n",
       "      <td>4</td>\n",
       "      <td>NaN</td>\n",
       "      <td>0</td>\n",
       "      <td>0</td>\n",
       "      <td>2899.073349</td>\n",
       "    </tr>\n",
       "    <tr>\n",
       "      <th>4</th>\n",
       "      <td>17182517.T2.2-ALM-B-mjp-1.1.H</td>\n",
       "      <td>05:04:00</td>\n",
       "      <td>05:04:00</td>\n",
       "      <td>19851</td>\n",
       "      <td>5</td>\n",
       "      <td>NaN</td>\n",
       "      <td>0</td>\n",
       "      <td>0</td>\n",
       "      <td>3927.090952</td>\n",
       "    </tr>\n",
       "  </tbody>\n",
       "</table>\n",
       "</div>"
      ],
      "text/plain": [
       "                         trip_id arrival_time departure_time  stop_id  \\\n",
       "0  17182517.T2.2-ALM-B-mjp-1.1.H     04:57:00       04:57:00    19847   \n",
       "1  17182517.T2.2-ALM-B-mjp-1.1.H     04:58:00       04:58:00    19848   \n",
       "2  17182517.T2.2-ALM-B-mjp-1.1.H     05:00:00       05:00:00    19849   \n",
       "3  17182517.T2.2-ALM-B-mjp-1.1.H     05:02:00       05:02:00    19850   \n",
       "4  17182517.T2.2-ALM-B-mjp-1.1.H     05:04:00       05:04:00    19851   \n",
       "\n",
       "   stop_sequence  stop_headsign  pickup_type  drop_off_type  \\\n",
       "0              1            NaN            0              0   \n",
       "1              2            NaN            0              0   \n",
       "2              3            NaN            0              0   \n",
       "3              4            NaN            0              0   \n",
       "4              5            NaN            0              0   \n",
       "\n",
       "   shape_dist_traveled  \n",
       "0             0.000000  \n",
       "1           723.017818  \n",
       "2          1951.735072  \n",
       "3          2899.073349  \n",
       "4          3927.090952  "
      ]
     },
     "execution_count": 8,
     "metadata": {},
     "output_type": "execute_result"
    }
   ],
   "source": [
    "df_txt_stop_times = pd.read_csv('txt/stop_times.txt', sep=\",\")\n",
    "df_txt_stop_times.head()\n"
   ]
  },
  {
   "cell_type": "code",
   "execution_count": null,
   "metadata": {},
   "outputs": [],
   "source": []
  },
  {
   "cell_type": "code",
   "execution_count": null,
   "metadata": {},
   "outputs": [],
   "source": [
    "#Reading stops.txt file."
   ]
  },
  {
   "cell_type": "code",
   "execution_count": 9,
   "metadata": {},
   "outputs": [
    {
     "data": {
      "text/html": [
       "<div>\n",
       "<style scoped>\n",
       "    .dataframe tbody tr th:only-of-type {\n",
       "        vertical-align: middle;\n",
       "    }\n",
       "\n",
       "    .dataframe tbody tr th {\n",
       "        vertical-align: top;\n",
       "    }\n",
       "\n",
       "    .dataframe thead th {\n",
       "        text-align: right;\n",
       "    }\n",
       "</style>\n",
       "<table border=\"1\" class=\"dataframe\">\n",
       "  <thead>\n",
       "    <tr style=\"text-align: right;\">\n",
       "      <th></th>\n",
       "      <th>stop_id</th>\n",
       "      <th>stop_name</th>\n",
       "      <th>stop_short_name</th>\n",
       "      <th>stop_lat</th>\n",
       "      <th>stop_lon</th>\n",
       "    </tr>\n",
       "  </thead>\n",
       "  <tbody>\n",
       "    <tr>\n",
       "      <th>0</th>\n",
       "      <td>15351</td>\n",
       "      <td>Sunbury Railway Station</td>\n",
       "      <td>Sunbury</td>\n",
       "      <td>-37.579091</td>\n",
       "      <td>144.727319</td>\n",
       "    </tr>\n",
       "    <tr>\n",
       "      <th>1</th>\n",
       "      <td>15353</td>\n",
       "      <td>Diggers Rest Railway Station</td>\n",
       "      <td>Diggers Rest</td>\n",
       "      <td>-37.627017</td>\n",
       "      <td>144.719922</td>\n",
       "    </tr>\n",
       "    <tr>\n",
       "      <th>2</th>\n",
       "      <td>19827</td>\n",
       "      <td>Stony Point Railway Station</td>\n",
       "      <td>Crib Point</td>\n",
       "      <td>-38.374235</td>\n",
       "      <td>145.221837</td>\n",
       "    </tr>\n",
       "    <tr>\n",
       "      <th>3</th>\n",
       "      <td>19828</td>\n",
       "      <td>Crib Point Railway Station</td>\n",
       "      <td>Crib Point</td>\n",
       "      <td>-38.366123</td>\n",
       "      <td>145.204043</td>\n",
       "    </tr>\n",
       "    <tr>\n",
       "      <th>4</th>\n",
       "      <td>19829</td>\n",
       "      <td>Morradoo Railway Station</td>\n",
       "      <td>Crib Point</td>\n",
       "      <td>-38.354033</td>\n",
       "      <td>145.189602</td>\n",
       "    </tr>\n",
       "  </tbody>\n",
       "</table>\n",
       "</div>"
      ],
      "text/plain": [
       "   stop_id                     stop_name stop_short_name   stop_lat  \\\n",
       "0    15351       Sunbury Railway Station         Sunbury -37.579091   \n",
       "1    15353  Diggers Rest Railway Station    Diggers Rest -37.627017   \n",
       "2    19827   Stony Point Railway Station      Crib Point -38.374235   \n",
       "3    19828    Crib Point Railway Station      Crib Point -38.366123   \n",
       "4    19829      Morradoo Railway Station      Crib Point -38.354033   \n",
       "\n",
       "     stop_lon  \n",
       "0  144.727319  \n",
       "1  144.719922  \n",
       "2  145.221837  \n",
       "3  145.204043  \n",
       "4  145.189602  "
      ]
     },
     "execution_count": 9,
     "metadata": {},
     "output_type": "execute_result"
    }
   ],
   "source": [
    "df_txt_stops = pd.read_csv('txt/stops.txt', sep=\",\")\n",
    "df_txt_stops.head()\n"
   ]
  },
  {
   "cell_type": "code",
   "execution_count": null,
   "metadata": {},
   "outputs": [],
   "source": []
  },
  {
   "cell_type": "code",
   "execution_count": null,
   "metadata": {},
   "outputs": [],
   "source": [
    "#Reading trips.txt file."
   ]
  },
  {
   "cell_type": "code",
   "execution_count": 10,
   "metadata": {},
   "outputs": [
    {
     "data": {
      "text/html": [
       "<div>\n",
       "<style scoped>\n",
       "    .dataframe tbody tr th:only-of-type {\n",
       "        vertical-align: middle;\n",
       "    }\n",
       "\n",
       "    .dataframe tbody tr th {\n",
       "        vertical-align: top;\n",
       "    }\n",
       "\n",
       "    .dataframe thead th {\n",
       "        text-align: right;\n",
       "    }\n",
       "</style>\n",
       "<table border=\"1\" class=\"dataframe\">\n",
       "  <thead>\n",
       "    <tr style=\"text-align: right;\">\n",
       "      <th></th>\n",
       "      <th>route_id</th>\n",
       "      <th>service_id</th>\n",
       "      <th>trip_id</th>\n",
       "      <th>shape_id</th>\n",
       "      <th>trip_headsign</th>\n",
       "      <th>direction_id</th>\n",
       "    </tr>\n",
       "  </thead>\n",
       "  <tbody>\n",
       "    <tr>\n",
       "      <th>0</th>\n",
       "      <td>2-ALM-F-mjp-1</td>\n",
       "      <td>T0</td>\n",
       "      <td>17067982.T0.2-ALM-F-mjp-1.1.H</td>\n",
       "      <td>2-ALM-F-mjp-1.1.H</td>\n",
       "      <td>City (Flinders Street)</td>\n",
       "      <td>0</td>\n",
       "    </tr>\n",
       "    <tr>\n",
       "      <th>1</th>\n",
       "      <td>2-ALM-F-mjp-1</td>\n",
       "      <td>T0</td>\n",
       "      <td>17067988.T0.2-ALM-F-mjp-1.1.H</td>\n",
       "      <td>2-ALM-F-mjp-1.1.H</td>\n",
       "      <td>City (Flinders Street)</td>\n",
       "      <td>0</td>\n",
       "    </tr>\n",
       "    <tr>\n",
       "      <th>2</th>\n",
       "      <td>2-ALM-F-mjp-1</td>\n",
       "      <td>T0</td>\n",
       "      <td>17067992.T0.2-ALM-F-mjp-1.1.H</td>\n",
       "      <td>2-ALM-F-mjp-1.1.H</td>\n",
       "      <td>City (Flinders Street)</td>\n",
       "      <td>0</td>\n",
       "    </tr>\n",
       "    <tr>\n",
       "      <th>3</th>\n",
       "      <td>2-ALM-F-mjp-1</td>\n",
       "      <td>T0</td>\n",
       "      <td>17067999.T0.2-ALM-F-mjp-1.1.H</td>\n",
       "      <td>2-ALM-F-mjp-1.1.H</td>\n",
       "      <td>City (Flinders Street)</td>\n",
       "      <td>0</td>\n",
       "    </tr>\n",
       "    <tr>\n",
       "      <th>4</th>\n",
       "      <td>2-ALM-F-mjp-1</td>\n",
       "      <td>T0</td>\n",
       "      <td>17068003.T0.2-ALM-F-mjp-1.1.H</td>\n",
       "      <td>2-ALM-F-mjp-1.1.H</td>\n",
       "      <td>City (Flinders Street)</td>\n",
       "      <td>0</td>\n",
       "    </tr>\n",
       "  </tbody>\n",
       "</table>\n",
       "</div>"
      ],
      "text/plain": [
       "        route_id service_id                        trip_id           shape_id  \\\n",
       "0  2-ALM-F-mjp-1         T0  17067982.T0.2-ALM-F-mjp-1.1.H  2-ALM-F-mjp-1.1.H   \n",
       "1  2-ALM-F-mjp-1         T0  17067988.T0.2-ALM-F-mjp-1.1.H  2-ALM-F-mjp-1.1.H   \n",
       "2  2-ALM-F-mjp-1         T0  17067992.T0.2-ALM-F-mjp-1.1.H  2-ALM-F-mjp-1.1.H   \n",
       "3  2-ALM-F-mjp-1         T0  17067999.T0.2-ALM-F-mjp-1.1.H  2-ALM-F-mjp-1.1.H   \n",
       "4  2-ALM-F-mjp-1         T0  17068003.T0.2-ALM-F-mjp-1.1.H  2-ALM-F-mjp-1.1.H   \n",
       "\n",
       "            trip_headsign  direction_id  \n",
       "0  City (Flinders Street)             0  \n",
       "1  City (Flinders Street)             0  \n",
       "2  City (Flinders Street)             0  \n",
       "3  City (Flinders Street)             0  \n",
       "4  City (Flinders Street)             0  "
      ]
     },
     "execution_count": 10,
     "metadata": {},
     "output_type": "execute_result"
    }
   ],
   "source": [
    "df_txt_trips = pd.read_csv('txt/trips.txt', sep=\",\")\n",
    "df_txt_trips.head()"
   ]
  },
  {
   "cell_type": "code",
   "execution_count": null,
   "metadata": {},
   "outputs": [],
   "source": [
    "#All .txt files are loaded into unique names dataframes"
   ]
  },
  {
   "cell_type": "code",
   "execution_count": null,
   "metadata": {},
   "outputs": [],
   "source": []
  },
  {
   "cell_type": "code",
   "execution_count": null,
   "metadata": {},
   "outputs": [],
   "source": [
    "#Loading rael_state.json file"
   ]
  },
  {
   "cell_type": "code",
   "execution_count": 11,
   "metadata": {},
   "outputs": [
    {
     "name": "stdout",
     "output_type": "stream",
     "text": [
      "          addr_street  bathrooms  bedrooms        lat         lng  \\\n",
      "0     14 Dover Street        1.0       2.0 -37.825818  144.991918   \n",
      "1    7 Berrywood Walk        2.0       3.0 -37.778532  145.254596   \n",
      "2  1/45 Barton Street        1.0       3.0 -37.711887  145.003676   \n",
      "3    20 Almond Avenue        1.0       3.0 -37.821573  144.838464   \n",
      "4       8 Diosma Road        2.0       4.0 -37.714888  145.167249   \n",
      "\n",
      "   parking_space      price  property_id property_type    year  \n",
      "0            1.0  7440000.0      52321.0         house  2016.0  \n",
      "1            0.0  9600000.0      62215.0         house  2011.0  \n",
      "2            1.0  5844000.0      33458.0         house  2011.0  \n",
      "3            2.0  6975000.0       1981.0         house  2010.0  \n",
      "4            2.0  7200000.0      47536.0         house  2012.0  \n"
     ]
    }
   ],
   "source": [
    "df_json_real_state = pd.read_json('real_state.json', lines=False)\n",
    "print (df_json_real_state.head())"
   ]
  },
  {
   "cell_type": "code",
   "execution_count": null,
   "metadata": {},
   "outputs": [],
   "source": []
  },
  {
   "cell_type": "code",
   "execution_count": null,
   "metadata": {},
   "outputs": [],
   "source": [
    "#Loading super_markets.json file"
   ]
  },
  {
   "cell_type": "code",
   "execution_count": 12,
   "metadata": {},
   "outputs": [
    {
     "name": "stdout",
     "output_type": "stream",
     "text": [
      "      id        lat         lng        type\n",
      "0  S_001 -37.883978  144.735287  Woolworths\n",
      "1  S_002 -41.161591  147.514797  Woolworths\n",
      "2  S_003 -37.984078  145.077167  Woolworths\n",
      "3  S_004 -37.707023  144.938740  Woolworths\n",
      "4  S_005 -37.597670  144.938413  Woolworths\n"
     ]
    }
   ],
   "source": [
    "df_json_supermarkets = pd.read_json('supermarkets.json', lines=False)\n",
    "print (df_json_supermarkets.head())\n"
   ]
  },
  {
   "cell_type": "code",
   "execution_count": null,
   "metadata": {},
   "outputs": [],
   "source": []
  },
  {
   "cell_type": "code",
   "execution_count": null,
   "metadata": {},
   "outputs": [],
   "source": [
    "#Loading VIC_LOCALITY_POLYGON_shp.dbf file"
   ]
  },
  {
   "cell_type": "code",
   "execution_count": 13,
   "metadata": {},
   "outputs": [
    {
     "name": "stdout",
     "output_type": "stream",
     "text": [
      "  LC_PLY_PID   DT_CREATE DT_RETIRE  LOC_PID  VIC_LOCALI VIC_LOCA_1 VIC_LOCA_2  \\\n",
      "0       6670  2011-08-31      None  VIC2615  2012-04-27       None  UNDERBOOL   \n",
      "1       6671  2011-08-31      None  VIC1986  2012-04-27       None     NURRAN   \n",
      "2       6672  2011-08-31      None  VIC2862  2012-04-27       None   WOORNDOO   \n",
      "3       6673  2011-08-31      None   VIC734  2017-08-09       None   DEPTFORD   \n",
      "4       6674  2011-08-31      None  VIC2900  2012-04-27       None      YANAC   \n",
      "\n",
      "  VIC_LOCA_3 VIC_LOCA_4 VIC_LOCA_5 VIC_LOCA_6 VIC_LOCA_7  \n",
      "0                                G       None          2  \n",
      "1                                G       None          2  \n",
      "2                                G       None          2  \n",
      "3                                G       None          2  \n",
      "4                                G       None          2  \n"
     ]
    }
   ],
   "source": [
    "def dbf2DF(dbfile, upper=True): #Reads in DBF files and returns Pandas DF\n",
    "    db = ps.open(dbfile) #Pysal to open DBF\n",
    "    d = {col: db.by_col(col) for col in db.header} #Convert dbf to dictionary\n",
    "    #pandasDF = pd.DataFrame(db[:]) #Convert to Pandas DF\n",
    "    pandasDF = pd.DataFrame(d) #Convert to Pandas DF\n",
    "    if upper == True: #Make columns uppercase if wanted \n",
    "        pandasDF.columns = map(str.upper, db.header) \n",
    "    db.close() \n",
    "    return pandasDF\n",
    "df_dbf_VIC_LOCALITY_POLYGON_shp = dbf2DF('VIC_LOCALITY_POLYGON_shp.dbf')\n",
    "print (df_dbf_VIC_LOCALITY_POLYGON_shp.head())"
   ]
  },
  {
   "cell_type": "code",
   "execution_count": null,
   "metadata": {},
   "outputs": [],
   "source": []
  },
  {
   "cell_type": "code",
   "execution_count": 85,
   "metadata": {},
   "outputs": [],
   "source": [
    "#Loading VIC_LOCALITY_POLYGON_shp.prj file"
   ]
  },
  {
   "cell_type": "code",
   "execution_count": 14,
   "metadata": {},
   "outputs": [
    {
     "name": "stdout",
     "output_type": "stream",
     "text": [
      "  LC_PLY_PID   DT_CREATE DT_RETIRE  LOC_PID  VIC_LOCALI VIC_LOCA_1 VIC_LOCA_2  \\\n",
      "0       6670  2011-08-31      None  VIC2615  2012-04-27       None  UNDERBOOL   \n",
      "1       6671  2011-08-31      None  VIC1986  2012-04-27       None     NURRAN   \n",
      "2       6672  2011-08-31      None  VIC2862  2012-04-27       None   WOORNDOO   \n",
      "3       6673  2011-08-31      None   VIC734  2017-08-09       None   DEPTFORD   \n",
      "4       6674  2011-08-31      None  VIC2900  2012-04-27       None      YANAC   \n",
      "\n",
      "  VIC_LOCA_3 VIC_LOCA_4 VIC_LOCA_5 VIC_LOCA_6 VIC_LOCA_7  \\\n",
      "0                                G       None          2   \n",
      "1                                G       None          2   \n",
      "2                                G       None          2   \n",
      "3                                G       None          2   \n",
      "4                                G       None          2   \n",
      "\n",
      "                                              coords  \n",
      "0  [(141.74552399, -35.07228701), (141.74552471, ...  \n",
      "1  [(148.668767, -37.39571245), (148.66876202, -3...  \n",
      "2  [(142.92287999, -37.97885997), (142.90449196, ...  \n",
      "3  [(147.82335712, -37.66000897), (147.8231274, -...  \n",
      "4  [(141.279783, -35.99858911), (141.27988533, -3...  \n"
     ]
    }
   ],
   "source": [
    "def read_shapefile(shp_path):\n",
    "\n",
    "\n",
    "    #read file, parse out the records and shapes\n",
    "    sf = shapefile.Reader(shp_path)\n",
    "    fields = [x[0] for x in sf.fields][1:]\n",
    "    records = sf.records()\n",
    "    shps = [s.points for s in sf.shapes()]\n",
    "\n",
    "    #write into a dataframe\n",
    "    df = pd.DataFrame(columns=fields, data=records)\n",
    "    df = df.assign(coords=shps)\n",
    "\n",
    "    return df\n",
    "name=\"VIC_LOCALITY_POLYGON_shp.prj\"\n",
    "df_csv_=pd.read_csv('sample.csv')\n",
    "df_prj_VIC_LOCALITY_POLYGON_shp=read_shapefile(name)\n",
    "print (df_prj_VIC_LOCALITY_POLYGON_shp.head())"
   ]
  },
  {
   "cell_type": "code",
   "execution_count": null,
   "metadata": {},
   "outputs": [],
   "source": []
  },
  {
   "cell_type": "code",
   "execution_count": null,
   "metadata": {},
   "outputs": [],
   "source": []
  },
  {
   "cell_type": "code",
   "execution_count": 99,
   "metadata": {},
   "outputs": [],
   "source": [
    "#Loading real_state.xml file"
   ]
  },
  {
   "cell_type": "code",
   "execution_count": 15,
   "metadata": {},
   "outputs": [
    {
     "name": "stdout",
     "output_type": "stream",
     "text": [
      "bathrooms {'type': 'dict'}\n",
      "price {'type': 'dict'}\n",
      "bedrooms {'type': 'dict'}\n",
      "parking_space {'type': 'dict'}\n",
      "year {'type': 'dict'}\n",
      "lat {'type': 'dict'}\n",
      "lng {'type': 'dict'}\n",
      "property_type {'type': 'dict'}\n",
      "addr_street {'type': 'dict'}\n",
      "property_id {'type': 'dict'}\n"
     ]
    }
   ],
   "source": [
    "tree = et.parse('real_state.xml')\n",
    "root = tree.getroot()\n",
    "for child in root:\n",
    "    print (child.tag, child.attrib)\n",
    "    \n",
    "    #print (child)"
   ]
  },
  {
   "cell_type": "code",
   "execution_count": 16,
   "metadata": {},
   "outputs": [
    {
     "data": {
      "text/html": [
       "<div>\n",
       "<style scoped>\n",
       "    .dataframe tbody tr th:only-of-type {\n",
       "        vertical-align: middle;\n",
       "    }\n",
       "\n",
       "    .dataframe tbody tr th {\n",
       "        vertical-align: top;\n",
       "    }\n",
       "\n",
       "    .dataframe thead th {\n",
       "        text-align: right;\n",
       "    }\n",
       "</style>\n",
       "<table border=\"1\" class=\"dataframe\">\n",
       "  <thead>\n",
       "    <tr style=\"text-align: right;\">\n",
       "      <th></th>\n",
       "      <th>Unnamed: 0</th>\n",
       "      <th>bathrooms</th>\n",
       "      <th>price</th>\n",
       "      <th>bedrooms</th>\n",
       "      <th>parking_space</th>\n",
       "      <th>year</th>\n",
       "      <th>lat</th>\n",
       "      <th>lng</th>\n",
       "      <th>property_type</th>\n",
       "      <th>addr_street</th>\n",
       "      <th>property_id</th>\n",
       "    </tr>\n",
       "  </thead>\n",
       "  <tbody>\n",
       "    <tr>\n",
       "      <th>0</th>\n",
       "      <td>0</td>\n",
       "      <td>2.0</td>\n",
       "      <td>6460000.0</td>\n",
       "      <td>2.0</td>\n",
       "      <td>2.0</td>\n",
       "      <td>2012.0</td>\n",
       "      <td>-37.847017</td>\n",
       "      <td>145.297400</td>\n",
       "      <td>house</td>\n",
       "      <td>9 Lockwoods Road</td>\n",
       "      <td>74068.0</td>\n",
       "    </tr>\n",
       "    <tr>\n",
       "      <th>1</th>\n",
       "      <td>1</td>\n",
       "      <td>3.0</td>\n",
       "      <td>15900000.0</td>\n",
       "      <td>4.0</td>\n",
       "      <td>0.0</td>\n",
       "      <td>2012.0</td>\n",
       "      <td>-37.806322</td>\n",
       "      <td>145.040679</td>\n",
       "      <td>house</td>\n",
       "      <td>22 Kent Street</td>\n",
       "      <td>48117.0</td>\n",
       "    </tr>\n",
       "    <tr>\n",
       "      <th>2</th>\n",
       "      <td>2</td>\n",
       "      <td>2.0</td>\n",
       "      <td>6900000.0</td>\n",
       "      <td>3.0</td>\n",
       "      <td>2.0</td>\n",
       "      <td>2009.0</td>\n",
       "      <td>-37.697483</td>\n",
       "      <td>145.130493</td>\n",
       "      <td>house</td>\n",
       "      <td>14 Terrigal Place</td>\n",
       "      <td>44285.0</td>\n",
       "    </tr>\n",
       "    <tr>\n",
       "      <th>3</th>\n",
       "      <td>3</td>\n",
       "      <td>1.0</td>\n",
       "      <td>21150000.0</td>\n",
       "      <td>3.0</td>\n",
       "      <td>1.0</td>\n",
       "      <td>2015.0</td>\n",
       "      <td>-37.877359</td>\n",
       "      <td>144.979549</td>\n",
       "      <td>house</td>\n",
       "      <td>322 Barkly Street</td>\n",
       "      <td>84877.0</td>\n",
       "    </tr>\n",
       "    <tr>\n",
       "      <th>4</th>\n",
       "      <td>4</td>\n",
       "      <td>1.0</td>\n",
       "      <td>3795000.0</td>\n",
       "      <td>3.0</td>\n",
       "      <td>2.0</td>\n",
       "      <td>2013.0</td>\n",
       "      <td>-37.576035</td>\n",
       "      <td>144.930551</td>\n",
       "      <td>house</td>\n",
       "      <td>7 Scarborough Terrace</td>\n",
       "      <td>27637.0</td>\n",
       "    </tr>\n",
       "  </tbody>\n",
       "</table>\n",
       "</div>"
      ],
      "text/plain": [
       "   Unnamed: 0  bathrooms       price  bedrooms  parking_space    year  \\\n",
       "0           0        2.0   6460000.0       2.0            2.0  2012.0   \n",
       "1           1        3.0  15900000.0       4.0            0.0  2012.0   \n",
       "2           2        2.0   6900000.0       3.0            2.0  2009.0   \n",
       "3           3        1.0  21150000.0       3.0            1.0  2015.0   \n",
       "4           4        1.0   3795000.0       3.0            2.0  2013.0   \n",
       "\n",
       "         lat         lng property_type            addr_street  property_id  \n",
       "0 -37.847017  145.297400         house       9 Lockwoods Road      74068.0  \n",
       "1 -37.806322  145.040679         house         22 Kent Street      48117.0  \n",
       "2 -37.697483  145.130493         house      14 Terrigal Place      44285.0  \n",
       "3 -37.877359  144.979549         house      322 Barkly Street      84877.0  \n",
       "4 -37.576035  144.930551         house  7 Scarborough Terrace      27637.0  "
      ]
     },
     "execution_count": 16,
     "metadata": {},
     "output_type": "execute_result"
    }
   ],
   "source": [
    "#Have converted the xml real_state.xml file into json and then saved as csv file\n",
    "df_xml_property=pd.read_csv('generated_from_xml_realstate.csv')\n",
    "df_xml_property.head()"
   ]
  },
  {
   "cell_type": "code",
   "execution_count": null,
   "metadata": {},
   "outputs": [],
   "source": []
  },
  {
   "cell_type": "code",
   "execution_count": null,
   "metadata": {},
   "outputs": [],
   "source": [
    "#Loading VIC_LOCALITY_POLYGON_shp.shx File"
   ]
  },
  {
   "cell_type": "code",
   "execution_count": 17,
   "metadata": {},
   "outputs": [
    {
     "name": "stdout",
     "output_type": "stream",
     "text": [
      "  LC_PLY_PID   DT_CREATE DT_RETIRE  LOC_PID  VIC_LOCALI VIC_LOCA_1 VIC_LOCA_2  \\\n",
      "0       6670  2011-08-31      None  VIC2615  2012-04-27       None  UNDERBOOL   \n",
      "1       6671  2011-08-31      None  VIC1986  2012-04-27       None     NURRAN   \n",
      "2       6672  2011-08-31      None  VIC2862  2012-04-27       None   WOORNDOO   \n",
      "3       6673  2011-08-31      None   VIC734  2017-08-09       None   DEPTFORD   \n",
      "4       6674  2011-08-31      None  VIC2900  2012-04-27       None      YANAC   \n",
      "\n",
      "  VIC_LOCA_3 VIC_LOCA_4 VIC_LOCA_5 VIC_LOCA_6 VIC_LOCA_7  \\\n",
      "0                                G       None          2   \n",
      "1                                G       None          2   \n",
      "2                                G       None          2   \n",
      "3                                G       None          2   \n",
      "4                                G       None          2   \n",
      "\n",
      "                                              coords  \n",
      "0  [(141.74552399, -35.07228701), (141.74552471, ...  \n",
      "1  [(148.668767, -37.39571245), (148.66876202, -3...  \n",
      "2  [(142.92287999, -37.97885997), (142.90449196, ...  \n",
      "3  [(147.82335712, -37.66000897), (147.8231274, -...  \n",
      "4  [(141.279783, -35.99858911), (141.27988533, -3...  \n"
     ]
    }
   ],
   "source": [
    "def read_shapefiles_shx(shp_path):\n",
    "\n",
    "\n",
    "    #read file, parse out the records and shapes\n",
    "    sf = shapefile.Reader(shp_path)\n",
    "    fields = [x[0] for x in sf.fields][1:]\n",
    "    records = sf.records()\n",
    "    shps = [s.points for s in sf.shapes()]\n",
    "\n",
    "    #write into a dataframe\n",
    "    df = pd.DataFrame(columns=fields, data=records)\n",
    "    df = df.assign(coords=shps)\n",
    "\n",
    "    return df\n",
    "name_shx=\"VIC_LOCALITY_POLYGON_shp.shx\"\n",
    "df_shx_VIC_LOCALITY_POLYGON_shp=read_shapefiles_shx(name_shx)\n",
    "print (df_shx_VIC_LOCALITY_POLYGON_shp.head())\n"
   ]
  },
  {
   "cell_type": "code",
   "execution_count": null,
   "metadata": {},
   "outputs": [],
   "source": []
  },
  {
   "cell_type": "code",
   "execution_count": null,
   "metadata": {},
   "outputs": [],
   "source": [
    "#Loading VIC_LOCALITY_POLYGON_shp.shp file"
   ]
  },
  {
   "cell_type": "code",
   "execution_count": 18,
   "metadata": {},
   "outputs": [
    {
     "name": "stdout",
     "output_type": "stream",
     "text": [
      "  LC_PLY_PID   DT_CREATE DT_RETIRE  LOC_PID  VIC_LOCALI VIC_LOCA_1 VIC_LOCA_2  \\\n",
      "0       6670  2011-08-31      None  VIC2615  2012-04-27       None  UNDERBOOL   \n",
      "1       6671  2011-08-31      None  VIC1986  2012-04-27       None     NURRAN   \n",
      "2       6672  2011-08-31      None  VIC2862  2012-04-27       None   WOORNDOO   \n",
      "3       6673  2011-08-31      None   VIC734  2017-08-09       None   DEPTFORD   \n",
      "4       6674  2011-08-31      None  VIC2900  2012-04-27       None      YANAC   \n",
      "\n",
      "  VIC_LOCA_3 VIC_LOCA_4 VIC_LOCA_5 VIC_LOCA_6 VIC_LOCA_7  \\\n",
      "0                                G       None          2   \n",
      "1                                G       None          2   \n",
      "2                                G       None          2   \n",
      "3                                G       None          2   \n",
      "4                                G       None          2   \n",
      "\n",
      "                                              coords  \n",
      "0  [(141.74552399, -35.07228701), (141.74552471, ...  \n",
      "1  [(148.668767, -37.39571245), (148.66876202, -3...  \n",
      "2  [(142.92287999, -37.97885997), (142.90449196, ...  \n",
      "3  [(147.82335712, -37.66000897), (147.8231274, -...  \n",
      "4  [(141.279783, -35.99858911), (141.27988533, -3...  \n"
     ]
    }
   ],
   "source": [
    "def read_shapefile_shp(shp_path):\n",
    "\n",
    "\n",
    "    #read file, parse out the records and shapes\n",
    "    sf = shapefile.Reader(shp_path)\n",
    "    fields = [x[0] for x in sf.fields][1:]\n",
    "    records = sf.records()\n",
    "    shps = [s.points for s in sf.shapes()]\n",
    "\n",
    "    #write into a dataframe\n",
    "    df = pd.DataFrame(columns=fields, data=records)\n",
    "    df = df.assign(coords=shps)\n",
    "\n",
    "    return df\n",
    "df_shp_VIC_LOCALITY_POLYGON_shp=read_shapefile_shp(\"VIC_LOCALITY_POLYGON_shp.shp\")\n",
    "print (df_shp_VIC_LOCALITY_POLYGON_shp.head())"
   ]
  },
  {
   "cell_type": "code",
   "execution_count": null,
   "metadata": {},
   "outputs": [],
   "source": []
  },
  {
   "cell_type": "code",
   "execution_count": null,
   "metadata": {},
   "outputs": [],
   "source": [
    "#Loading sample.csv file -> As our final dataset schema"
   ]
  },
  {
   "cell_type": "code",
   "execution_count": null,
   "metadata": {},
   "outputs": [],
   "source": []
  },
  {
   "cell_type": "code",
   "execution_count": null,
   "metadata": {},
   "outputs": [],
   "source": [
    "#Loading our loaded dataframes to formulate our final dataset"
   ]
  },
  {
   "cell_type": "code",
   "execution_count": 19,
   "metadata": {},
   "outputs": [
    {
     "name": "stdout",
     "output_type": "stream",
     "text": [
      "   property_id        lat         lng         addr_street       price  \\\n",
      "0      74068.0 -37.847017  145.297400     14 Dover Street   6460000.0   \n",
      "1      48117.0 -37.806322  145.040679    7 Berrywood Walk  15900000.0   \n",
      "2      44285.0 -37.697483  145.130493  1/45 Barton Street   6900000.0   \n",
      "3      84877.0 -37.877359  144.979549    20 Almond Avenue  21150000.0   \n",
      "4      27637.0 -37.576035  144.930551       8 Diosma Road   3795000.0   \n",
      "\n",
      "  property_type    year  bedrooms  bathrooms  parking_space  Distance_to_sc  \\\n",
      "0         house  2012.0       2.0        1.0            1.0        0.000000   \n",
      "1         house  2012.0       3.0        2.0            0.0      157.543645   \n",
      "2         house  2009.0       3.0        1.0            1.0      185.827916   \n",
      "3         house  2015.0       3.0        1.0            2.0      308.469671   \n",
      "4         house  2013.0       4.0        2.0            2.0      332.239399   \n",
      "\n",
      "   train_station_id  distance_to_train_station  travel_min_to_CBD  \\\n",
      "0             19847                   0.000000                9.0   \n",
      "1             19848                 723.017818                0.0   \n",
      "2             19849                1951.735072                8.0   \n",
      "3             19850                2899.073349                8.0   \n",
      "4             19851                3927.090952                NaN   \n",
      "\n",
      "   transfer_flag hospital_id  distance_to_hospital supermarket_id  \\\n",
      "0              1        6670                 451.0          S_001   \n",
      "1              2        6671                  63.0          S_002   \n",
      "2              3        6672                 456.0          S_003   \n",
      "3              4        6673                 423.0          S_004   \n",
      "4              5        6674                   NaN          S_005   \n",
      "\n",
      "   distance_to_supermaket  \n",
      "0              182.619265  \n",
      "1              188.676388  \n",
      "2              183.061244  \n",
      "3              182.645763  \n",
      "4              182.536083  \n"
     ]
    }
   ],
   "source": [
    "#Saving first column data to create dataframe in next step.\n",
    "data=df_xml_property['property_id']\n",
    "df=pd.DataFrame(data=data)\n",
    "#Adding the columns to df\n",
    "df['lat']=df_xml_property['lat']\n",
    "df['lng']=df_xml_property['lng']\n",
    "df['addr_street']=df_json_real_state['addr_street']\n",
    "df['price']=df_xml_property['price']\n",
    "df['property_type']=df_json_real_state['property_type']\n",
    "df['year']=df_xml_property['year']\n",
    "df['bedrooms']=df_json_real_state['bedrooms']\n",
    "df['bathrooms']=df_json_real_state['bathrooms']\n",
    "df['parking_space']=df_json_real_state['parking_space']\n",
    "df['Distance_to_sc']=df_txt_shapes['shape_dist_traveled']\n",
    "df['train_station_id']=df_txt_stop_times['stop_id']\n",
    "df['distance_to_train_station']=df_txt_stop_times['shape_dist_traveled'] \n",
    "df['travel_min_to_CBD']=df_csv_['travel_min_to_CBD']\n",
    "df['travel_min_to_CBD']=df_csv_['travel_min_to_CBD']\n",
    "df['transfer_flag']=df_txt_stop_times['stop_sequence']\n",
    "df['hospital_id']=df_shx_VIC_LOCALITY_POLYGON_shp['LC_PLY_PID']\n",
    "df['distance_to_hospital']=df_csv_['distance_to_hospital']\n",
    "df['supermarket_id']=df_json_supermarkets['id']\n",
    "df['distance_to_supermaket']=df_json_supermarkets['lng']-df_json_supermarkets['lat']\n",
    "\n",
    "\n",
    "\n",
    "print (df.head())"
   ]
  },
  {
   "cell_type": "code",
   "execution_count": null,
   "metadata": {},
   "outputs": [],
   "source": []
  },
  {
   "cell_type": "code",
   "execution_count": 298,
   "metadata": {},
   "outputs": [],
   "source": [
    "#Task 2: data reshaping"
   ]
  },
  {
   "cell_type": "code",
   "execution_count": 20,
   "metadata": {},
   "outputs": [
    {
     "data": {
      "text/plain": [
       "count    1.006000e+03\n",
       "mean     9.144171e+06\n",
       "std      5.699425e+06\n",
       "min      1.809000e+06\n",
       "25%      5.231250e+06\n",
       "50%      7.507500e+06\n",
       "75%      1.144900e+07\n",
       "max      3.740000e+07\n",
       "Name: price, dtype: float64"
      ]
     },
     "execution_count": 20,
     "metadata": {},
     "output_type": "execute_result"
    }
   ],
   "source": [
    "df['price'].describe()"
   ]
  },
  {
   "cell_type": "code",
   "execution_count": 21,
   "metadata": {},
   "outputs": [
    {
     "data": {
      "text/plain": [
       "<matplotlib.axes._subplots.AxesSubplot at 0x23282b6f978>"
      ]
     },
     "execution_count": 21,
     "metadata": {},
     "output_type": "execute_result"
    },
    {
     "data": {
      "image/png": "[encoded data removed]",
      "text/plain": [
       "<Figure size 432x288 with 1 Axes>"
      ]
     },
     "metadata": {},
     "output_type": "display_data"
    }
   ],
   "source": [
    "df['price'].plot.bar()"
   ]
  },
  {
   "cell_type": "code",
   "execution_count": 22,
   "metadata": {},
   "outputs": [
    {
     "data": {
      "image/png": "[encoded data removed]",
      "text/plain": [
       "<Figure size 432x288 with 1 Axes>"
      ]
     },
     "metadata": {},
     "output_type": "display_data"
    }
   ],
   "source": [
    "fig, ax = plt.subplots()\n",
    "ax.scatter(x = df['bedrooms'], y = df['price'])\n",
    "plt.ylabel('Price', fontsize=13)\n",
    "plt.xlabel('Bedrooms', fontsize=13)\n",
    "plt.show()"
   ]
  },
  {
   "cell_type": "code",
   "execution_count": null,
   "metadata": {},
   "outputs": [],
   "source": [
    "#Our maximum houses are 3 to 4 bedrooms.by each room the house price is increasing but 5 bedroom prices is low."
   ]
  },
  {
   "cell_type": "code",
   "execution_count": 23,
   "metadata": {},
   "outputs": [
    {
     "data": {
      "image/png": "[encoded data removed]",
      "text/plain": [
       "<Figure size 432x288 with 1 Axes>"
      ]
     },
     "metadata": {},
     "output_type": "display_data"
    }
   ],
   "source": [
    "fig, ax = plt.subplots()\n",
    "ax.scatter(x = df['bathrooms'], y = df['price'])\n",
    "plt.ylabel('Price', fontsize=13)\n",
    "plt.xlabel('Bedrooms', fontsize=13)\n",
    "plt.show()"
   ]
  },
  {
   "cell_type": "code",
   "execution_count": null,
   "metadata": {},
   "outputs": [],
   "source": [
    "#Our maximum houses are 3 to 4 bathrooms. House prices is partially consistent with bedrooms.\n",
    "#a small change can be seen."
   ]
  },
  {
   "cell_type": "code",
   "execution_count": null,
   "metadata": {},
   "outputs": [],
   "source": []
  },
  {
   "cell_type": "code",
   "execution_count": 24,
   "metadata": {},
   "outputs": [
    {
     "data": {
      "text/html": [
       "<div>\n",
       "<style scoped>\n",
       "    .dataframe tbody tr th:only-of-type {\n",
       "        vertical-align: middle;\n",
       "    }\n",
       "\n",
       "    .dataframe tbody tr th {\n",
       "        vertical-align: top;\n",
       "    }\n",
       "\n",
       "    .dataframe thead th {\n",
       "        text-align: right;\n",
       "    }\n",
       "</style>\n",
       "<table border=\"1\" class=\"dataframe\">\n",
       "  <thead>\n",
       "    <tr style=\"text-align: right;\">\n",
       "      <th></th>\n",
       "      <th>bedrooms</th>\n",
       "      <th>bathrooms</th>\n",
       "      <th>property_type</th>\n",
       "      <th>parking_space</th>\n",
       "    </tr>\n",
       "  </thead>\n",
       "  <tbody>\n",
       "    <tr>\n",
       "      <th>0</th>\n",
       "      <td>2.0</td>\n",
       "      <td>1.0</td>\n",
       "      <td>house</td>\n",
       "      <td>1.0</td>\n",
       "    </tr>\n",
       "    <tr>\n",
       "      <th>1</th>\n",
       "      <td>3.0</td>\n",
       "      <td>2.0</td>\n",
       "      <td>house</td>\n",
       "      <td>0.0</td>\n",
       "    </tr>\n",
       "    <tr>\n",
       "      <th>2</th>\n",
       "      <td>3.0</td>\n",
       "      <td>1.0</td>\n",
       "      <td>house</td>\n",
       "      <td>1.0</td>\n",
       "    </tr>\n",
       "    <tr>\n",
       "      <th>3</th>\n",
       "      <td>3.0</td>\n",
       "      <td>1.0</td>\n",
       "      <td>house</td>\n",
       "      <td>2.0</td>\n",
       "    </tr>\n",
       "    <tr>\n",
       "      <th>4</th>\n",
       "      <td>4.0</td>\n",
       "      <td>2.0</td>\n",
       "      <td>house</td>\n",
       "      <td>2.0</td>\n",
       "    </tr>\n",
       "  </tbody>\n",
       "</table>\n",
       "</div>"
      ],
      "text/plain": [
       "   bedrooms  bathrooms property_type  parking_space\n",
       "0       2.0        1.0         house            1.0\n",
       "1       3.0        2.0         house            0.0\n",
       "2       3.0        1.0         house            1.0\n",
       "3       3.0        1.0         house            2.0\n",
       "4       4.0        2.0         house            2.0"
      ]
     },
     "execution_count": 24,
     "metadata": {},
     "output_type": "execute_result"
    }
   ],
   "source": [
    "#Linear Model\n",
    "from sklearn.linear_model import LinearRegression\n",
    "from sklearn.model_selection import train_test_split\n",
    "lm=LinearRegression()\n",
    "\n",
    "X=df[['bedrooms','bathrooms','property_type','parking_space']]\n",
    "X.head()\n",
    "\n"
   ]
  },
  {
   "cell_type": "code",
   "execution_count": 401,
   "metadata": {},
   "outputs": [],
   "source": [
    "#We have to clean data, find Nan or None values and remove them"
   ]
  },
  {
   "cell_type": "code",
   "execution_count": 25,
   "metadata": {},
   "outputs": [
    {
     "name": "stdout",
     "output_type": "stream",
     "text": [
      "[ 2.  3.  4. nan  5.  1.]\n",
      "[ 1.  2. nan  3.]\n",
      "['house' None]\n",
      "[ 1.  0.  2.  3. nan]\n"
     ]
    }
   ],
   "source": [
    "print (X.bedrooms.unique())\n",
    "print (X.bathrooms.unique())\n",
    "print (X.property_type.unique())\n",
    "print (X.parking_space.unique())"
   ]
  },
  {
   "cell_type": "code",
   "execution_count": 409,
   "metadata": {},
   "outputs": [],
   "source": [
    "#In Four columns we have nan values, we have to remove it."
   ]
  },
  {
   "cell_type": "code",
   "execution_count": 27,
   "metadata": {},
   "outputs": [
    {
     "name": "stdout",
     "output_type": "stream",
     "text": [
      "[2. 3. 4. 0. 5. 1.]\n",
      "[1. 2. 0. 3.]\n",
      "['house' 0]\n",
      "[1. 0. 2. 3.]\n"
     ]
    },
    {
     "name": "stderr",
     "output_type": "stream",
     "text": [
      "C:\\Users\\junaid.raza\\AppData\\Local\\Continuum\\anaconda4\\lib\\site-packages\\pandas\\core\\frame.py:3787: SettingWithCopyWarning: \n",
      "A value is trying to be set on a copy of a slice from a DataFrame\n",
      "\n",
      "See the caveats in the documentation: http://pandas.pydata.org/pandas-docs/stable/indexing.html#indexing-view-versus-copy\n",
      "  downcast=downcast, **kwargs)\n"
     ]
    }
   ],
   "source": [
    "X.fillna(0, inplace=True)\n",
    "print (X.bedrooms.unique())\n",
    "print (X.bathrooms.unique())\n",
    "print (X.property_type.unique())\n",
    "print (X.parking_space.unique())"
   ]
  },
  {
   "cell_type": "code",
   "execution_count": null,
   "metadata": {},
   "outputs": [],
   "source": []
  },
  {
   "cell_type": "code",
   "execution_count": null,
   "metadata": {},
   "outputs": [],
   "source": []
  },
  {
   "cell_type": "code",
   "execution_count": 29,
   "metadata": {},
   "outputs": [],
   "source": [
    "Y=df['price']\n",
    "Y.fillna(0, inplace=True)"
   ]
  },
  {
   "cell_type": "code",
   "execution_count": 421,
   "metadata": {},
   "outputs": [],
   "source": []
  },
  {
   "cell_type": "code",
   "execution_count": 30,
   "metadata": {},
   "outputs": [],
   "source": [
    "X_train= X[:-250]\n",
    "X_test=X[-250:]\n",
    "\n",
    "Y_train= Y[:-250]\n",
    "Y_test=Y[-250:]"
   ]
  },
  {
   "cell_type": "code",
   "execution_count": null,
   "metadata": {},
   "outputs": [],
   "source": []
  },
  {
   "cell_type": "code",
   "execution_count": 31,
   "metadata": {},
   "outputs": [
    {
     "ename": "ValueError",
     "evalue": "could not convert string to float: 'house'",
     "output_type": "error",
     "traceback": [
      "\u001b[1;31m---------------------------------------------------------------------------\u001b[0m",
      "\u001b[1;31mValueError\u001b[0m                                Traceback (most recent call last)",
      "\u001b[1;32m<ipython-input-31-23f0e9ca6ac7>\u001b[0m in \u001b[0;36m<module>\u001b[1;34m()\u001b[0m\n\u001b[0;32m      1\u001b[0m \u001b[1;31m#regr= linear_model.LinearRegression()\u001b[0m\u001b[1;33m\u001b[0m\u001b[1;33m\u001b[0m\u001b[0m\n\u001b[1;32m----> 2\u001b[1;33m \u001b[0mlm\u001b[0m\u001b[1;33m.\u001b[0m\u001b[0mfit\u001b[0m\u001b[1;33m(\u001b[0m\u001b[0mX_train\u001b[0m\u001b[1;33m,\u001b[0m \u001b[0mY_train\u001b[0m\u001b[1;33m)\u001b[0m\u001b[1;33m\u001b[0m\u001b[0m\n\u001b[0m\u001b[0;32m      3\u001b[0m \u001b[0mplt\u001b[0m\u001b[1;33m.\u001b[0m\u001b[0mplot\u001b[0m\u001b[1;33m(\u001b[0m\u001b[0mX_test\u001b[0m\u001b[1;33m,\u001b[0m\u001b[0mlm\u001b[0m\u001b[1;33m.\u001b[0m\u001b[0mpredict\u001b[0m\u001b[1;33m(\u001b[0m\u001b[0mX_test\u001b[0m\u001b[1;33m)\u001b[0m\u001b[1;33m,\u001b[0m\u001b[0mcolor\u001b[0m\u001b[1;33m=\u001b[0m\u001b[1;34m'red'\u001b[0m\u001b[1;33m,\u001b[0m \u001b[0mlinewidth\u001b[0m\u001b[1;33m=\u001b[0m\u001b[1;36m3\u001b[0m\u001b[1;33m)\u001b[0m\u001b[1;33m\u001b[0m\u001b[0m\n\u001b[0;32m      4\u001b[0m \u001b[1;33m\u001b[0m\u001b[0m\n\u001b[0;32m      5\u001b[0m \u001b[0mplt\u001b[0m\u001b[1;33m.\u001b[0m\u001b[0mshow\u001b[0m\u001b[1;33m(\u001b[0m\u001b[1;33m)\u001b[0m\u001b[1;33m\u001b[0m\u001b[0m\n",
      "\u001b[1;32m~\\AppData\\Local\\Continuum\\anaconda4\\lib\\site-packages\\sklearn\\linear_model\\base.py\u001b[0m in \u001b[0;36mfit\u001b[1;34m(self, X, y, sample_weight)\u001b[0m\n\u001b[0;32m    480\u001b[0m         \u001b[0mn_jobs_\u001b[0m \u001b[1;33m=\u001b[0m \u001b[0mself\u001b[0m\u001b[1;33m.\u001b[0m\u001b[0mn_jobs\u001b[0m\u001b[1;33m\u001b[0m\u001b[0m\n\u001b[0;32m    481\u001b[0m         X, y = check_X_y(X, y, accept_sparse=['csr', 'csc', 'coo'],\n\u001b[1;32m--> 482\u001b[1;33m                          y_numeric=True, multi_output=True)\n\u001b[0m\u001b[0;32m    483\u001b[0m \u001b[1;33m\u001b[0m\u001b[0m\n\u001b[0;32m    484\u001b[0m         \u001b[1;32mif\u001b[0m \u001b[0msample_weight\u001b[0m \u001b[1;32mis\u001b[0m \u001b[1;32mnot\u001b[0m \u001b[1;32mNone\u001b[0m \u001b[1;32mand\u001b[0m \u001b[0mnp\u001b[0m\u001b[1;33m.\u001b[0m\u001b[0matleast_1d\u001b[0m\u001b[1;33m(\u001b[0m\u001b[0msample_weight\u001b[0m\u001b[1;33m)\u001b[0m\u001b[1;33m.\u001b[0m\u001b[0mndim\u001b[0m \u001b[1;33m>\u001b[0m \u001b[1;36m1\u001b[0m\u001b[1;33m:\u001b[0m\u001b[1;33m\u001b[0m\u001b[0m\n",
      "\u001b[1;32m~\\AppData\\Local\\Continuum\\anaconda4\\lib\\site-packages\\sklearn\\utils\\validation.py\u001b[0m in \u001b[0;36mcheck_X_y\u001b[1;34m(X, y, accept_sparse, dtype, order, copy, force_all_finite, ensure_2d, allow_nd, multi_output, ensure_min_samples, ensure_min_features, y_numeric, warn_on_dtype, estimator)\u001b[0m\n\u001b[0;32m    571\u001b[0m     X = check_array(X, accept_sparse, dtype, order, copy, force_all_finite,\n\u001b[0;32m    572\u001b[0m                     \u001b[0mensure_2d\u001b[0m\u001b[1;33m,\u001b[0m \u001b[0mallow_nd\u001b[0m\u001b[1;33m,\u001b[0m \u001b[0mensure_min_samples\u001b[0m\u001b[1;33m,\u001b[0m\u001b[1;33m\u001b[0m\u001b[0m\n\u001b[1;32m--> 573\u001b[1;33m                     ensure_min_features, warn_on_dtype, estimator)\n\u001b[0m\u001b[0;32m    574\u001b[0m     \u001b[1;32mif\u001b[0m \u001b[0mmulti_output\u001b[0m\u001b[1;33m:\u001b[0m\u001b[1;33m\u001b[0m\u001b[0m\n\u001b[0;32m    575\u001b[0m         y = check_array(y, 'csr', force_all_finite=True, ensure_2d=False,\n",
      "\u001b[1;32m~\\AppData\\Local\\Continuum\\anaconda4\\lib\\site-packages\\sklearn\\utils\\validation.py\u001b[0m in \u001b[0;36mcheck_array\u001b[1;34m(array, accept_sparse, dtype, order, copy, force_all_finite, ensure_2d, allow_nd, ensure_min_samples, ensure_min_features, warn_on_dtype, estimator)\u001b[0m\n\u001b[0;32m    446\u001b[0m         \u001b[1;31m# make sure we actually converted to numeric:\u001b[0m\u001b[1;33m\u001b[0m\u001b[1;33m\u001b[0m\u001b[0m\n\u001b[0;32m    447\u001b[0m         \u001b[1;32mif\u001b[0m \u001b[0mdtype_numeric\u001b[0m \u001b[1;32mand\u001b[0m \u001b[0marray\u001b[0m\u001b[1;33m.\u001b[0m\u001b[0mdtype\u001b[0m\u001b[1;33m.\u001b[0m\u001b[0mkind\u001b[0m \u001b[1;33m==\u001b[0m \u001b[1;34m\"O\"\u001b[0m\u001b[1;33m:\u001b[0m\u001b[1;33m\u001b[0m\u001b[0m\n\u001b[1;32m--> 448\u001b[1;33m             \u001b[0marray\u001b[0m \u001b[1;33m=\u001b[0m \u001b[0marray\u001b[0m\u001b[1;33m.\u001b[0m\u001b[0mastype\u001b[0m\u001b[1;33m(\u001b[0m\u001b[0mnp\u001b[0m\u001b[1;33m.\u001b[0m\u001b[0mfloat64\u001b[0m\u001b[1;33m)\u001b[0m\u001b[1;33m\u001b[0m\u001b[0m\n\u001b[0m\u001b[0;32m    449\u001b[0m         \u001b[1;32mif\u001b[0m \u001b[1;32mnot\u001b[0m \u001b[0mallow_nd\u001b[0m \u001b[1;32mand\u001b[0m \u001b[0marray\u001b[0m\u001b[1;33m.\u001b[0m\u001b[0mndim\u001b[0m \u001b[1;33m>=\u001b[0m \u001b[1;36m3\u001b[0m\u001b[1;33m:\u001b[0m\u001b[1;33m\u001b[0m\u001b[0m\n\u001b[0;32m    450\u001b[0m             raise ValueError(\"Found array with dim %d. %s expected <= 2.\"\n",
      "\u001b[1;31mValueError\u001b[0m: could not convert string to float: 'house'"
     ]
    }
   ],
   "source": [
    "#regr= linear_model.LinearRegression()\n",
    "lm.fit(X_train, Y_train)\n",
    "plt.plot(X_test,lm.predict(X_test),color='red', linewidth=3)\n",
    "\n",
    "plt.show()\n",
    "#print (str(round (lm.predict(5000))))"
   ]
  },
  {
   "cell_type": "code",
   "execution_count": 441,
   "metadata": {},
   "outputs": [
    {
     "name": "stdout",
     "output_type": "stream",
     "text": [
      "[ -44895.05017618  110155.92824438 3588323.82397494  228779.83378939]\n"
     ]
    }
   ],
   "source": [
    "print (lm.coef_)"
   ]
  },
  {
   "cell_type": "code",
   "execution_count": 1,
   "metadata": {},
   "outputs": [
    {
     "ename": "NameError",
     "evalue": "name 'lm' is not defined",
     "output_type": "error",
     "traceback": [
      "\u001b[1;31m---------------------------------------------------------------------------\u001b[0m",
      "\u001b[1;31mNameError\u001b[0m                                 Traceback (most recent call last)",
      "\u001b[1;32m<ipython-input-1-53790b818319>\u001b[0m in \u001b[0;36m<module>\u001b[1;34m()\u001b[0m\n\u001b[1;32m----> 1\u001b[1;33m \u001b[0mY_predicted\u001b[0m \u001b[1;33m=\u001b[0m \u001b[0mlm\u001b[0m\u001b[1;33m.\u001b[0m\u001b[0mpredict\u001b[0m\u001b[1;33m(\u001b[0m\u001b[0mX_test\u001b[0m\u001b[1;33m)\u001b[0m\u001b[1;33m\u001b[0m\u001b[0m\n\u001b[0m\u001b[0;32m      2\u001b[0m \u001b[1;31m# The mean squared error\u001b[0m\u001b[1;33m\u001b[0m\u001b[1;33m\u001b[0m\u001b[0m\n\u001b[0;32m      3\u001b[0m print(\"Mean squared error: %.2f\"\n\u001b[0;32m      4\u001b[0m       % mean_squared_error(Y_test, Y_predicted))\n",
      "\u001b[1;31mNameError\u001b[0m: name 'lm' is not defined"
     ]
    }
   ],
   "source": [
    "Y_predicted = lm.predict(X_test)\n",
    "# The mean squared error\n",
    "print(\"Mean squared error: %.2f\"\n",
    "      % mean_squared_error(Y_test, Y_predicted))"
   ]
  },
  {
   "cell_type": "code",
   "execution_count": 445,
   "metadata": {},
   "outputs": [
    {
     "name": "stdout",
     "output_type": "stream",
     "text": [
      "Variance score: 0.01\n"
     ]
    }
   ],
   "source": [
    "# Explained variance score: 1 is perfect prediction\n",
    "print('Variance score: %.2f' % r2_score(Y_test, Y_predicted))"
   ]
  },
  {
   "cell_type": "code",
   "execution_count": null,
   "metadata": {},
   "outputs": [],
   "source": []
  },
  {
   "cell_type": "code",
   "execution_count": null,
   "metadata": {},
   "outputs": [],
   "source": []
  },
  {
   "cell_type": "code",
   "execution_count": null,
   "metadata": {},
   "outputs": [],
   "source": []
  },
  {
   "cell_type": "code",
   "execution_count": null,
   "metadata": {},
   "outputs": [],
   "source": []
  },
  {
   "cell_type": "code",
   "execution_count": null,
   "metadata": {},
   "outputs": [],
   "source": []
  },
  {
   "cell_type": "code",
   "execution_count": null,
   "metadata": {},
   "outputs": [],
   "source": []
  },
  {
   "cell_type": "code",
   "execution_count": null,
   "metadata": {},
   "outputs": [],
   "source": []
  },
  {
   "cell_type": "code",
   "execution_count": null,
   "metadata": {},
   "outputs": [],
   "source": []
  }
 ],
 "metadata": {
  "kernelspec": {
   "display_name": "Python 3",
   "language": "python",
   "name": "python3"
  },
  "language_info": {
   "codemirror_mode": {
    "name": "ipython",
    "version": 3
   },
   "file_extension": ".py",
   "mimetype": "text/x-python",
   "name": "python",
   "nbconvert_exporter": "python",
   "pygments_lexer": "ipython3",
   "version": "3.6.5"
  }
 },
 "nbformat": 4,
 "nbformat_minor": 2
}
